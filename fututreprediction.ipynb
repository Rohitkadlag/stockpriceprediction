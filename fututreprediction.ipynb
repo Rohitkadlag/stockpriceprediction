{
 "cells": [
  {
   "cell_type": "code",
   "execution_count": 108,
   "metadata": {
    "id": "Q391SxBBlSvp"
   },
   "outputs": [],
   "source": [
    "import math\n",
    "import numpy as np\n",
    "import yfinance as yf\n",
    "import pandas as pd\n",
    "import matplotlib.pyplot as plt\n",
    "from pandas_datareader import data as pdr\n",
    "from sklearn.preprocessing import MinMaxScaler\n",
    "from keras.layers import Dense, Dropout\n",
    "from keras.models import Sequential"
   ]
  },
  {
   "cell_type": "code",
   "execution_count": 109,
   "metadata": {},
   "outputs": [
    {
     "name": "stdout",
     "output_type": "stream",
     "text": [
      "Requirement already satisfied: pandas_datareader in d:\\anaconda3\\lib\\site-packages (0.10.0)\n",
      "Requirement already satisfied: pandas>=0.23 in d:\\anaconda3\\lib\\site-packages (from pandas_datareader) (1.4.4)\n",
      "Requirement already satisfied: requests>=2.19.0 in d:\\anaconda3\\lib\\site-packages (from pandas_datareader) (2.31.0)\n",
      "Requirement already satisfied: lxml in d:\\anaconda3\\lib\\site-packages (from pandas_datareader) (4.9.1)\n",
      "Requirement already satisfied: python-dateutil>=2.8.1 in d:\\anaconda3\\lib\\site-packages (from pandas>=0.23->pandas_datareader) (2.8.2)\n",
      "Requirement already satisfied: numpy>=1.18.5 in d:\\anaconda3\\lib\\site-packages (from pandas>=0.23->pandas_datareader) (1.21.5)\n",
      "Requirement already satisfied: pytz>=2020.1 in d:\\anaconda3\\lib\\site-packages (from pandas>=0.23->pandas_datareader) (2023.3.post1)\n",
      "Requirement already satisfied: urllib3<3,>=1.21.1 in d:\\anaconda3\\lib\\site-packages (from requests>=2.19.0->pandas_datareader) (1.26.11)\n",
      "Requirement already satisfied: charset-normalizer<4,>=2 in d:\\anaconda3\\lib\\site-packages (from requests>=2.19.0->pandas_datareader) (2.0.4)\n",
      "Requirement already satisfied: certifi>=2017.4.17 in d:\\anaconda3\\lib\\site-packages (from requests>=2.19.0->pandas_datareader) (2022.9.14)\n",
      "Requirement already satisfied: idna<4,>=2.5 in d:\\anaconda3\\lib\\site-packages (from requests>=2.19.0->pandas_datareader) (3.3)\n",
      "Requirement already satisfied: six>=1.5 in d:\\anaconda3\\lib\\site-packages (from python-dateutil>=2.8.1->pandas>=0.23->pandas_datareader) (1.16.0)\n",
      "Note: you may need to restart the kernel to use updated packages.\n"
     ]
    }
   ],
   "source": [
    "pip install pandas_datareader\n"
   ]
  },
  {
   "cell_type": "code",
   "execution_count": 110,
   "metadata": {
    "id": "PfU9AmQUlX74"
   },
   "outputs": [],
   "source": [
    "yf.pdr_override()\n"
   ]
  },
  {
   "cell_type": "code",
   "execution_count": 111,
   "metadata": {
    "colab": {
     "base_uri": "https://localhost:8080/",
     "height": 472
    },
    "id": "d3l5FO4nlbee",
    "outputId": "33538ba0-d587-467a-87a6-78ed155e7d69"
   },
   "outputs": [
    {
     "name": "stdout",
     "output_type": "stream",
     "text": [
      "[*********************100%%**********************]  1 of 1 completed\n"
     ]
    },
    {
     "data": {
      "text/html": [
       "<div>\n",
       "<style scoped>\n",
       "    .dataframe tbody tr th:only-of-type {\n",
       "        vertical-align: middle;\n",
       "    }\n",
       "\n",
       "    .dataframe tbody tr th {\n",
       "        vertical-align: top;\n",
       "    }\n",
       "\n",
       "    .dataframe thead th {\n",
       "        text-align: right;\n",
       "    }\n",
       "</style>\n",
       "<table border=\"1\" class=\"dataframe\">\n",
       "  <thead>\n",
       "    <tr style=\"text-align: right;\">\n",
       "      <th></th>\n",
       "      <th>Open</th>\n",
       "      <th>High</th>\n",
       "      <th>Low</th>\n",
       "      <th>Close</th>\n",
       "      <th>Adj Close</th>\n",
       "      <th>Volume</th>\n",
       "    </tr>\n",
       "    <tr>\n",
       "      <th>Date</th>\n",
       "      <th></th>\n",
       "      <th></th>\n",
       "      <th></th>\n",
       "      <th></th>\n",
       "      <th></th>\n",
       "      <th></th>\n",
       "    </tr>\n",
       "  </thead>\n",
       "  <tbody>\n",
       "    <tr>\n",
       "      <th>2012-09-04</th>\n",
       "      <td>23.777143</td>\n",
       "      <td>24.112143</td>\n",
       "      <td>23.732143</td>\n",
       "      <td>24.106071</td>\n",
       "      <td>20.548998</td>\n",
       "      <td>367892000</td>\n",
       "    </tr>\n",
       "    <tr>\n",
       "      <th>2012-09-05</th>\n",
       "      <td>24.127501</td>\n",
       "      <td>24.155357</td>\n",
       "      <td>23.914286</td>\n",
       "      <td>23.936787</td>\n",
       "      <td>20.404692</td>\n",
       "      <td>336375200</td>\n",
       "    </tr>\n",
       "    <tr>\n",
       "      <th>2012-09-06</th>\n",
       "      <td>24.041786</td>\n",
       "      <td>24.224644</td>\n",
       "      <td>23.957144</td>\n",
       "      <td>24.152500</td>\n",
       "      <td>20.588581</td>\n",
       "      <td>391196400</td>\n",
       "    </tr>\n",
       "    <tr>\n",
       "      <th>2012-09-07</th>\n",
       "      <td>24.216070</td>\n",
       "      <td>24.374287</td>\n",
       "      <td>24.134644</td>\n",
       "      <td>24.301430</td>\n",
       "      <td>20.715528</td>\n",
       "      <td>329666400</td>\n",
       "    </tr>\n",
       "    <tr>\n",
       "      <th>2012-09-10</th>\n",
       "      <td>24.301786</td>\n",
       "      <td>24.403214</td>\n",
       "      <td>23.646429</td>\n",
       "      <td>23.669287</td>\n",
       "      <td>20.176661</td>\n",
       "      <td>487998000</td>\n",
       "    </tr>\n",
       "    <tr>\n",
       "      <th>...</th>\n",
       "      <td>...</td>\n",
       "      <td>...</td>\n",
       "      <td>...</td>\n",
       "      <td>...</td>\n",
       "      <td>...</td>\n",
       "      <td>...</td>\n",
       "    </tr>\n",
       "    <tr>\n",
       "      <th>2023-10-27</th>\n",
       "      <td>166.910004</td>\n",
       "      <td>168.960007</td>\n",
       "      <td>166.830002</td>\n",
       "      <td>168.220001</td>\n",
       "      <td>168.220001</td>\n",
       "      <td>58499100</td>\n",
       "    </tr>\n",
       "    <tr>\n",
       "      <th>2023-10-30</th>\n",
       "      <td>169.020004</td>\n",
       "      <td>171.169998</td>\n",
       "      <td>168.869995</td>\n",
       "      <td>170.289993</td>\n",
       "      <td>170.289993</td>\n",
       "      <td>51131000</td>\n",
       "    </tr>\n",
       "    <tr>\n",
       "      <th>2023-10-31</th>\n",
       "      <td>169.350006</td>\n",
       "      <td>170.899994</td>\n",
       "      <td>167.899994</td>\n",
       "      <td>170.770004</td>\n",
       "      <td>170.770004</td>\n",
       "      <td>44846000</td>\n",
       "    </tr>\n",
       "    <tr>\n",
       "      <th>2023-11-01</th>\n",
       "      <td>171.000000</td>\n",
       "      <td>174.229996</td>\n",
       "      <td>170.119995</td>\n",
       "      <td>173.970001</td>\n",
       "      <td>173.970001</td>\n",
       "      <td>56934900</td>\n",
       "    </tr>\n",
       "    <tr>\n",
       "      <th>2023-11-02</th>\n",
       "      <td>175.520004</td>\n",
       "      <td>177.779999</td>\n",
       "      <td>175.460007</td>\n",
       "      <td>177.570007</td>\n",
       "      <td>177.570007</td>\n",
       "      <td>77334800</td>\n",
       "    </tr>\n",
       "  </tbody>\n",
       "</table>\n",
       "<p>2810 rows × 6 columns</p>\n",
       "</div>"
      ],
      "text/plain": [
       "                  Open        High         Low       Close   Adj Close  \\\n",
       "Date                                                                     \n",
       "2012-09-04   23.777143   24.112143   23.732143   24.106071   20.548998   \n",
       "2012-09-05   24.127501   24.155357   23.914286   23.936787   20.404692   \n",
       "2012-09-06   24.041786   24.224644   23.957144   24.152500   20.588581   \n",
       "2012-09-07   24.216070   24.374287   24.134644   24.301430   20.715528   \n",
       "2012-09-10   24.301786   24.403214   23.646429   23.669287   20.176661   \n",
       "...                ...         ...         ...         ...         ...   \n",
       "2023-10-27  166.910004  168.960007  166.830002  168.220001  168.220001   \n",
       "2023-10-30  169.020004  171.169998  168.869995  170.289993  170.289993   \n",
       "2023-10-31  169.350006  170.899994  167.899994  170.770004  170.770004   \n",
       "2023-11-01  171.000000  174.229996  170.119995  173.970001  173.970001   \n",
       "2023-11-02  175.520004  177.779999  175.460007  177.570007  177.570007   \n",
       "\n",
       "               Volume  \n",
       "Date                   \n",
       "2012-09-04  367892000  \n",
       "2012-09-05  336375200  \n",
       "2012-09-06  391196400  \n",
       "2012-09-07  329666400  \n",
       "2012-09-10  487998000  \n",
       "...               ...  \n",
       "2023-10-27   58499100  \n",
       "2023-10-30   51131000  \n",
       "2023-10-31   44846000  \n",
       "2023-11-01   56934900  \n",
       "2023-11-02   77334800  \n",
       "\n",
       "[2810 rows x 6 columns]"
      ]
     },
     "execution_count": 111,
     "metadata": {},
     "output_type": "execute_result"
    }
   ],
   "source": [
    "df = pdr.get_data_yahoo('AAPL', start='2012-09-01', end='2023-11-03')\n",
    "df"
   ]
  },
  {
   "cell_type": "code",
   "execution_count": 112,
   "metadata": {
    "colab": {
     "base_uri": "https://localhost:8080/",
     "height": 547
    },
    "id": "JGJ9O1oslnQO",
    "outputId": "dbfe69b6-74cc-4558-c687-3270aaf11c4f"
   },
   "outputs": [
    {
     "data": {
      "image/png": "[encoded data removed]",
      "text/plain": [
       "<Figure size 1200x600 with 1 Axes>"
      ]
     },
     "metadata": {},
     "output_type": "display_data"
    }
   ],
   "source": [
    "plt.figure(figsize=(12, 6))\n",
    "plt.plot(df['Close'])\n",
    "plt.xlabel('Date')\n",
    "plt.ylabel('Closing Price USD')\n",
    "plt.show()\n"
   ]
  },
  {
   "cell_type": "code",
   "execution_count": 113,
   "metadata": {
    "id": "lvHslxJrlqrF"
   },
   "outputs": [],
   "source": [
    "data = df.filter(['Close'])\n",
    "dataset = data.values"
   ]
  },
  {
   "cell_type": "code",
   "execution_count": 114,
   "metadata": {
    "id": "BHgM9Juulv3e"
   },
   "outputs": [],
   "source": [
    "scaler = MinMaxScaler(feature_range=(0, 1))\n",
    "scaled_data = scaler.fit_transform(dataset)\n"
   ]
  },
  {
   "cell_type": "code",
   "execution_count": 115,
   "metadata": {
    "id": "jgUJC7Qjlyce"
   },
   "outputs": [],
   "source": [
    "training_data_len = math.ceil(len(dataset) * 0.8)\n"
   ]
  },
  {
   "cell_type": "code",
   "execution_count": 116,
   "metadata": {
    "id": "vzz8KCDWl1Ye"
   },
   "outputs": [],
   "source": [
    "train_data = scaled_data[:training_data_len]"
   ]
  },
  {
   "cell_type": "code",
   "execution_count": 117,
   "metadata": {
    "id": "UKDEh8I6l5HN"
   },
   "outputs": [],
   "source": [
    "x_train = []\n",
    "y_train = []"
   ]
  },
  {
   "cell_type": "code",
   "execution_count": 118,
   "metadata": {
    "id": "ICJZtyDKl8L2"
   },
   "outputs": [],
   "source": [
    "for i in range(60, len(train_data)):\n",
    "    x_train.append(train_data[i-60:i, 0])\n",
    "    y_train.append(train_data[i, 0])\n"
   ]
  },
  {
   "cell_type": "code",
   "execution_count": 119,
   "metadata": {
    "id": "n8FLploSl-pG"
   },
   "outputs": [],
   "source": [
    "x_train = np.array(x_train)\n",
    "y_train = np.array(y_train)\n"
   ]
  },
  {
   "cell_type": "code",
   "execution_count": 120,
   "metadata": {
    "id": "T3FnFBupmCLu"
   },
   "outputs": [],
   "source": [
    "x_train = np.reshape(x_train, (x_train.shape[0], x_train.shape[1], 1))"
   ]
  },
  {
   "cell_type": "code",
   "execution_count": 121,
   "metadata": {
    "id": "unWVHJLlmLMG"
   },
   "outputs": [],
   "source": [
    "model = Sequential()\n",
    "model.add(Dense(64, input_shape=(x_train.shape[1],)))\n",
    "model.add(Dropout(0.2))\n",
    "model.add(Dense(64, activation='relu'))\n",
    "model.add(Dropout(0.2))\n",
    "model.add(Dense(1, activation='linear'))"
   ]
  },
  {
   "cell_type": "code",
   "execution_count": 122,
   "metadata": {
    "id": "qph9f8VfmM2g"
   },
   "outputs": [],
   "source": [
    "model.compile(optimizer='adam', loss='mean_squared_error')\n"
   ]
  },
  {
   "cell_type": "code",
   "execution_count": 123,
   "metadata": {
    "colab": {
     "base_uri": "https://localhost:8080/"
    },
    "id": "1zwco56gmRc1",
    "outputId": "78bec700-534d-4c90-f1a0-3125c58d966b"
   },
   "outputs": [
    {
     "name": "stdout",
     "output_type": "stream",
     "text": [
      "Epoch 1/400\n",
      "22/22 [==============================] - 1s 2ms/step - loss: 0.0378\n",
      "Epoch 2/400\n",
      "22/22 [==============================] - 0s 2ms/step - loss: 0.0105\n",
      "Epoch 3/400\n",
      "22/22 [==============================] - 0s 2ms/step - loss: 0.0062\n",
      "Epoch 4/400\n",
      "22/22 [==============================] - 0s 2ms/step - loss: 0.0043\n",
      "Epoch 5/400\n",
      "22/22 [==============================] - 0s 2ms/step - loss: 0.0036\n",
      "Epoch 6/400\n",
      "22/22 [==============================] - 0s 2ms/step - loss: 0.0033\n",
      "Epoch 7/400\n",
      "22/22 [==============================] - 0s 2ms/step - loss: 0.0027\n",
      "Epoch 8/400\n",
      "22/22 [==============================] - 0s 2ms/step - loss: 0.0023\n",
      "Epoch 9/400\n",
      "22/22 [==============================] - 0s 2ms/step - loss: 0.0025\n",
      "Epoch 10/400\n",
      "22/22 [==============================] - 0s 2ms/step - loss: 0.0022\n",
      "Epoch 11/400\n",
      "22/22 [==============================] - 0s 2ms/step - loss: 0.0020\n",
      "Epoch 12/400\n",
      "22/22 [==============================] - 0s 2ms/step - loss: 0.0018\n",
      "Epoch 13/400\n",
      "22/22 [==============================] - 0s 2ms/step - loss: 0.0020\n",
      "Epoch 14/400\n",
      "22/22 [==============================] - 0s 2ms/step - loss: 0.0018\n",
      "Epoch 15/400\n",
      "22/22 [==============================] - 0s 2ms/step - loss: 0.0019\n",
      "Epoch 16/400\n",
      "22/22 [==============================] - 0s 2ms/step - loss: 0.0018\n",
      "Epoch 17/400\n",
      "22/22 [==============================] - 0s 3ms/step - loss: 0.0018\n",
      "Epoch 18/400\n",
      "22/22 [==============================] - 0s 2ms/step - loss: 0.0014\n",
      "Epoch 19/400\n",
      "22/22 [==============================] - 0s 3ms/step - loss: 0.0018\n",
      "Epoch 20/400\n",
      "22/22 [==============================] - 0s 2ms/step - loss: 0.0017\n",
      "Epoch 21/400\n",
      "22/22 [==============================] - 0s 2ms/step - loss: 0.0015\n",
      "Epoch 22/400\n",
      "22/22 [==============================] - 0s 2ms/step - loss: 0.0014\n",
      "Epoch 23/400\n",
      "22/22 [==============================] - 0s 3ms/step - loss: 0.0014\n",
      "Epoch 24/400\n",
      "22/22 [==============================] - 0s 3ms/step - loss: 0.0013\n",
      "Epoch 25/400\n",
      "22/22 [==============================] - 0s 3ms/step - loss: 0.0013\n",
      "Epoch 26/400\n",
      "22/22 [==============================] - 0s 3ms/step - loss: 0.0013\n",
      "Epoch 27/400\n",
      "22/22 [==============================] - 0s 3ms/step - loss: 0.0014\n",
      "Epoch 28/400\n",
      "22/22 [==============================] - 0s 2ms/step - loss: 0.0012\n",
      "Epoch 29/400\n",
      "22/22 [==============================] - 0s 3ms/step - loss: 0.0013\n",
      "Epoch 30/400\n",
      "22/22 [==============================] - 0s 3ms/step - loss: 0.0012\n",
      "Epoch 31/400\n",
      "22/22 [==============================] - 0s 3ms/step - loss: 0.0011\n",
      "Epoch 32/400\n",
      "22/22 [==============================] - 0s 3ms/step - loss: 0.0014\n",
      "Epoch 33/400\n",
      "22/22 [==============================] - 0s 2ms/step - loss: 0.0012\n",
      "Epoch 34/400\n",
      "22/22 [==============================] - 0s 2ms/step - loss: 0.0012\n",
      "Epoch 35/400\n",
      "22/22 [==============================] - 0s 3ms/step - loss: 0.0012\n",
      "Epoch 36/400\n",
      "22/22 [==============================] - 0s 3ms/step - loss: 0.0012\n",
      "Epoch 37/400\n",
      "22/22 [==============================] - 0s 3ms/step - loss: 0.0011\n",
      "Epoch 38/400\n",
      "22/22 [==============================] - 0s 3ms/step - loss: 0.0013\n",
      "Epoch 39/400\n",
      "22/22 [==============================] - 0s 3ms/step - loss: 0.0014\n",
      "Epoch 40/400\n",
      "22/22 [==============================] - 0s 2ms/step - loss: 0.0011\n",
      "Epoch 41/400\n",
      "22/22 [==============================] - 0s 3ms/step - loss: 9.0855e-04\n",
      "Epoch 42/400\n",
      "22/22 [==============================] - 0s 3ms/step - loss: 0.0010\n",
      "Epoch 43/400\n",
      "22/22 [==============================] - 0s 3ms/step - loss: 9.5980e-04\n",
      "Epoch 44/400\n",
      "22/22 [==============================] - 0s 3ms/step - loss: 9.3559e-04\n",
      "Epoch 45/400\n",
      "22/22 [==============================] - 0s 3ms/step - loss: 0.0011\n",
      "Epoch 46/400\n",
      "22/22 [==============================] - 0s 3ms/step - loss: 9.5066e-04\n",
      "Epoch 47/400\n",
      "22/22 [==============================] - 0s 3ms/step - loss: 9.1482e-04\n",
      "Epoch 48/400\n",
      "22/22 [==============================] - 0s 3ms/step - loss: 9.5091e-04\n",
      "Epoch 49/400\n",
      "22/22 [==============================] - 0s 3ms/step - loss: 9.3321e-04\n",
      "Epoch 50/400\n",
      "22/22 [==============================] - 0s 3ms/step - loss: 9.2144e-04\n",
      "Epoch 51/400\n",
      "22/22 [==============================] - 0s 2ms/step - loss: 9.7644e-04\n",
      "Epoch 52/400\n",
      "22/22 [==============================] - 0s 2ms/step - loss: 9.2833e-04\n",
      "Epoch 53/400\n",
      "22/22 [==============================] - 0s 3ms/step - loss: 9.8306e-04\n",
      "Epoch 54/400\n",
      "22/22 [==============================] - 0s 2ms/step - loss: 8.6927e-04\n",
      "Epoch 55/400\n",
      "22/22 [==============================] - 0s 2ms/step - loss: 8.9520e-04\n",
      "Epoch 56/400\n",
      "22/22 [==============================] - 0s 2ms/step - loss: 9.5761e-04\n",
      "Epoch 57/400\n",
      "22/22 [==============================] - 0s 2ms/step - loss: 7.5065e-04\n",
      "Epoch 58/400\n",
      "22/22 [==============================] - 0s 2ms/step - loss: 8.5806e-04\n",
      "Epoch 59/400\n",
      "22/22 [==============================] - 0s 3ms/step - loss: 8.0998e-04\n",
      "Epoch 60/400\n",
      "22/22 [==============================] - 0s 3ms/step - loss: 8.9533e-04\n",
      "Epoch 61/400\n",
      "22/22 [==============================] - 0s 3ms/step - loss: 7.4492e-04\n",
      "Epoch 62/400\n",
      "22/22 [==============================] - 0s 3ms/step - loss: 8.7901e-04\n",
      "Epoch 63/400\n",
      "22/22 [==============================] - 0s 3ms/step - loss: 7.8150e-04\n",
      "Epoch 64/400\n",
      "22/22 [==============================] - 0s 2ms/step - loss: 9.9731e-04\n",
      "Epoch 65/400\n",
      "22/22 [==============================] - 0s 2ms/step - loss: 9.0434e-04\n",
      "Epoch 66/400\n",
      "22/22 [==============================] - 0s 2ms/step - loss: 7.6139e-04\n",
      "Epoch 67/400\n",
      "22/22 [==============================] - 0s 2ms/step - loss: 8.0274e-04\n",
      "Epoch 68/400\n",
      "22/22 [==============================] - 0s 2ms/step - loss: 7.8422e-04\n",
      "Epoch 69/400\n",
      "22/22 [==============================] - 0s 2ms/step - loss: 7.9127e-04\n",
      "Epoch 70/400\n",
      "22/22 [==============================] - 0s 2ms/step - loss: 7.8676e-04\n",
      "Epoch 71/400\n",
      "22/22 [==============================] - 0s 2ms/step - loss: 8.2987e-04\n",
      "Epoch 72/400\n",
      "22/22 [==============================] - 0s 2ms/step - loss: 7.0878e-04\n",
      "Epoch 73/400\n",
      "22/22 [==============================] - 0s 3ms/step - loss: 8.3211e-04\n",
      "Epoch 74/400\n",
      "22/22 [==============================] - 0s 3ms/step - loss: 7.5849e-04\n",
      "Epoch 75/400\n",
      "22/22 [==============================] - 0s 2ms/step - loss: 7.1099e-04\n",
      "Epoch 76/400\n",
      "22/22 [==============================] - 0s 2ms/step - loss: 7.0180e-04\n",
      "Epoch 77/400\n",
      "22/22 [==============================] - 0s 2ms/step - loss: 7.8885e-04\n",
      "Epoch 78/400\n",
      "22/22 [==============================] - 0s 2ms/step - loss: 7.0393e-04\n",
      "Epoch 79/400\n",
      "22/22 [==============================] - 0s 3ms/step - loss: 8.4926e-04\n",
      "Epoch 80/400\n",
      "22/22 [==============================] - 0s 2ms/step - loss: 8.7755e-04\n",
      "Epoch 81/400\n",
      "22/22 [==============================] - 0s 3ms/step - loss: 7.1738e-04\n",
      "Epoch 82/400\n",
      "22/22 [==============================] - 0s 2ms/step - loss: 6.9346e-04\n",
      "Epoch 83/400\n",
      "22/22 [==============================] - 0s 3ms/step - loss: 8.4064e-04\n",
      "Epoch 84/400\n",
      "22/22 [==============================] - 0s 2ms/step - loss: 8.0082e-04\n",
      "Epoch 85/400\n",
      "22/22 [==============================] - 0s 2ms/step - loss: 7.7523e-04\n",
      "Epoch 86/400\n",
      "22/22 [==============================] - 0s 2ms/step - loss: 8.1609e-04\n",
      "Epoch 87/400\n",
      "22/22 [==============================] - 0s 2ms/step - loss: 8.4184e-04\n",
      "Epoch 88/400\n",
      "22/22 [==============================] - 0s 2ms/step - loss: 6.7231e-04\n",
      "Epoch 89/400\n",
      "22/22 [==============================] - 0s 2ms/step - loss: 7.8151e-04\n",
      "Epoch 90/400\n",
      "22/22 [==============================] - 0s 3ms/step - loss: 7.7977e-04\n",
      "Epoch 91/400\n",
      "22/22 [==============================] - 0s 2ms/step - loss: 6.5309e-04\n",
      "Epoch 92/400\n",
      "22/22 [==============================] - 0s 2ms/step - loss: 9.1689e-04\n",
      "Epoch 93/400\n",
      "22/22 [==============================] - 0s 2ms/step - loss: 8.0200e-04\n",
      "Epoch 94/400\n",
      "22/22 [==============================] - 0s 2ms/step - loss: 8.3017e-04\n",
      "Epoch 95/400\n",
      "22/22 [==============================] - 0s 2ms/step - loss: 7.1508e-04\n",
      "Epoch 96/400\n",
      "22/22 [==============================] - 0s 2ms/step - loss: 8.7166e-04\n",
      "Epoch 97/400\n",
      "22/22 [==============================] - 0s 3ms/step - loss: 9.0332e-04\n",
      "Epoch 98/400\n",
      "22/22 [==============================] - 0s 2ms/step - loss: 9.3226e-04\n",
      "Epoch 99/400\n"
     ]
    },
    {
     "name": "stdout",
     "output_type": "stream",
     "text": [
      "22/22 [==============================] - 0s 2ms/step - loss: 6.5453e-04\n",
      "Epoch 100/400\n",
      "22/22 [==============================] - 0s 2ms/step - loss: 7.9190e-04\n",
      "Epoch 101/400\n",
      "22/22 [==============================] - 0s 2ms/step - loss: 7.6626e-04\n",
      "Epoch 102/400\n",
      "22/22 [==============================] - 0s 2ms/step - loss: 7.4297e-04\n",
      "Epoch 103/400\n",
      "22/22 [==============================] - 0s 2ms/step - loss: 6.8138e-04\n",
      "Epoch 104/400\n",
      "22/22 [==============================] - 0s 2ms/step - loss: 6.8403e-04\n",
      "Epoch 105/400\n",
      "22/22 [==============================] - 0s 3ms/step - loss: 7.3871e-04\n",
      "Epoch 106/400\n",
      "22/22 [==============================] - 0s 3ms/step - loss: 6.5298e-04\n",
      "Epoch 107/400\n",
      "22/22 [==============================] - 0s 2ms/step - loss: 7.1019e-04\n",
      "Epoch 108/400\n",
      "22/22 [==============================] - 0s 2ms/step - loss: 7.8342e-04\n",
      "Epoch 109/400\n",
      "22/22 [==============================] - 0s 2ms/step - loss: 8.6455e-04\n",
      "Epoch 110/400\n",
      "22/22 [==============================] - 0s 2ms/step - loss: 7.8455e-04\n",
      "Epoch 111/400\n",
      "22/22 [==============================] - 0s 2ms/step - loss: 6.8405e-04\n",
      "Epoch 112/400\n",
      "22/22 [==============================] - 0s 2ms/step - loss: 7.0747e-04\n",
      "Epoch 113/400\n",
      "22/22 [==============================] - 0s 2ms/step - loss: 6.0917e-04\n",
      "Epoch 114/400\n",
      "22/22 [==============================] - 0s 2ms/step - loss: 6.8042e-04\n",
      "Epoch 115/400\n",
      "22/22 [==============================] - 0s 2ms/step - loss: 6.5413e-04\n",
      "Epoch 116/400\n",
      "22/22 [==============================] - 0s 2ms/step - loss: 6.9066e-04\n",
      "Epoch 117/400\n",
      "22/22 [==============================] - 0s 2ms/step - loss: 6.9921e-04\n",
      "Epoch 118/400\n",
      "22/22 [==============================] - 0s 2ms/step - loss: 6.4104e-04\n",
      "Epoch 119/400\n",
      "22/22 [==============================] - 0s 2ms/step - loss: 6.0715e-04\n",
      "Epoch 120/400\n",
      "22/22 [==============================] - 0s 2ms/step - loss: 7.0136e-04\n",
      "Epoch 121/400\n",
      "22/22 [==============================] - 0s 2ms/step - loss: 7.7658e-04\n",
      "Epoch 122/400\n",
      "22/22 [==============================] - 0s 2ms/step - loss: 7.4051e-04\n",
      "Epoch 123/400\n",
      "22/22 [==============================] - 0s 3ms/step - loss: 6.3014e-04\n",
      "Epoch 124/400\n",
      "22/22 [==============================] - 0s 2ms/step - loss: 8.4703e-04\n",
      "Epoch 125/400\n",
      "22/22 [==============================] - 0s 2ms/step - loss: 6.6411e-04\n",
      "Epoch 126/400\n",
      "22/22 [==============================] - 0s 3ms/step - loss: 7.2837e-04\n",
      "Epoch 127/400\n",
      "22/22 [==============================] - 0s 2ms/step - loss: 6.5052e-04\n",
      "Epoch 128/400\n",
      "22/22 [==============================] - 0s 2ms/step - loss: 5.5343e-04\n",
      "Epoch 129/400\n",
      "22/22 [==============================] - 0s 2ms/step - loss: 6.5373e-04\n",
      "Epoch 130/400\n",
      "22/22 [==============================] - 0s 2ms/step - loss: 5.8535e-04\n",
      "Epoch 131/400\n",
      "22/22 [==============================] - 0s 2ms/step - loss: 6.8648e-04\n",
      "Epoch 132/400\n",
      "22/22 [==============================] - 0s 2ms/step - loss: 6.6433e-04\n",
      "Epoch 133/400\n",
      "22/22 [==============================] - 0s 2ms/step - loss: 6.6084e-04\n",
      "Epoch 134/400\n",
      "22/22 [==============================] - 0s 2ms/step - loss: 6.6616e-04\n",
      "Epoch 135/400\n",
      "22/22 [==============================] - 0s 2ms/step - loss: 6.6036e-04\n",
      "Epoch 136/400\n",
      "22/22 [==============================] - 0s 2ms/step - loss: 6.6283e-04\n",
      "Epoch 137/400\n",
      "22/22 [==============================] - 0s 2ms/step - loss: 8.2680e-04\n",
      "Epoch 138/400\n",
      "22/22 [==============================] - 0s 2ms/step - loss: 7.1027e-04\n",
      "Epoch 139/400\n",
      "22/22 [==============================] - 0s 2ms/step - loss: 6.8371e-04\n",
      "Epoch 140/400\n",
      "22/22 [==============================] - 0s 2ms/step - loss: 6.1250e-04\n",
      "Epoch 141/400\n",
      "22/22 [==============================] - 0s 2ms/step - loss: 5.3719e-04\n",
      "Epoch 142/400\n",
      "22/22 [==============================] - 0s 2ms/step - loss: 7.7075e-04\n",
      "Epoch 143/400\n",
      "22/22 [==============================] - 0s 2ms/step - loss: 6.0944e-04\n",
      "Epoch 144/400\n",
      "22/22 [==============================] - 0s 2ms/step - loss: 7.5005e-04\n",
      "Epoch 145/400\n",
      "22/22 [==============================] - 0s 2ms/step - loss: 6.1708e-04\n",
      "Epoch 146/400\n",
      "22/22 [==============================] - 0s 2ms/step - loss: 7.5044e-04\n",
      "Epoch 147/400\n",
      "22/22 [==============================] - 0s 2ms/step - loss: 6.6478e-04\n",
      "Epoch 148/400\n",
      "22/22 [==============================] - 0s 2ms/step - loss: 5.9249e-04\n",
      "Epoch 149/400\n",
      "22/22 [==============================] - 0s 2ms/step - loss: 5.9891e-04\n",
      "Epoch 150/400\n",
      "22/22 [==============================] - 0s 2ms/step - loss: 7.2510e-04\n",
      "Epoch 151/400\n",
      "22/22 [==============================] - 0s 2ms/step - loss: 7.7469e-04\n",
      "Epoch 152/400\n",
      "22/22 [==============================] - 0s 2ms/step - loss: 6.0858e-04\n",
      "Epoch 153/400\n",
      "22/22 [==============================] - 0s 2ms/step - loss: 6.6055e-04\n",
      "Epoch 154/400\n",
      "22/22 [==============================] - 0s 2ms/step - loss: 5.3916e-04\n",
      "Epoch 155/400\n",
      "22/22 [==============================] - 0s 2ms/step - loss: 6.1546e-04\n",
      "Epoch 156/400\n",
      "22/22 [==============================] - 0s 2ms/step - loss: 7.1971e-04\n",
      "Epoch 157/400\n",
      "22/22 [==============================] - 0s 2ms/step - loss: 6.0669e-04\n",
      "Epoch 158/400\n",
      "22/22 [==============================] - 0s 2ms/step - loss: 5.9983e-04\n",
      "Epoch 159/400\n",
      "22/22 [==============================] - 0s 2ms/step - loss: 8.1174e-04\n",
      "Epoch 160/400\n",
      "22/22 [==============================] - 0s 2ms/step - loss: 5.5272e-04\n",
      "Epoch 161/400\n",
      "22/22 [==============================] - 0s 2ms/step - loss: 6.2761e-04\n",
      "Epoch 162/400\n",
      "22/22 [==============================] - 0s 2ms/step - loss: 5.8997e-04\n",
      "Epoch 163/400\n",
      "22/22 [==============================] - 0s 2ms/step - loss: 5.1273e-04\n",
      "Epoch 164/400\n",
      "22/22 [==============================] - 0s 2ms/step - loss: 5.9030e-04\n",
      "Epoch 165/400\n",
      "22/22 [==============================] - 0s 2ms/step - loss: 6.7364e-04\n",
      "Epoch 166/400\n",
      "22/22 [==============================] - 0s 3ms/step - loss: 5.4538e-04\n",
      "Epoch 167/400\n",
      "22/22 [==============================] - 0s 3ms/step - loss: 6.8141e-04\n",
      "Epoch 168/400\n",
      "22/22 [==============================] - 0s 2ms/step - loss: 6.1510e-04\n",
      "Epoch 169/400\n",
      "22/22 [==============================] - 0s 2ms/step - loss: 6.0495e-04\n",
      "Epoch 170/400\n",
      "22/22 [==============================] - 0s 2ms/step - loss: 6.2042e-04\n",
      "Epoch 171/400\n",
      "22/22 [==============================] - 0s 2ms/step - loss: 5.8852e-04\n",
      "Epoch 172/400\n",
      "22/22 [==============================] - 0s 2ms/step - loss: 7.3259e-04\n",
      "Epoch 173/400\n",
      "22/22 [==============================] - 0s 2ms/step - loss: 7.0507e-04\n",
      "Epoch 174/400\n",
      "22/22 [==============================] - 0s 2ms/step - loss: 8.0572e-04\n",
      "Epoch 175/400\n",
      "22/22 [==============================] - 0s 2ms/step - loss: 6.7864e-04\n",
      "Epoch 176/400\n",
      "22/22 [==============================] - 0s 2ms/step - loss: 5.7667e-04\n",
      "Epoch 177/400\n",
      "22/22 [==============================] - 0s 2ms/step - loss: 6.0781e-04\n",
      "Epoch 178/400\n",
      "22/22 [==============================] - 0s 2ms/step - loss: 6.3419e-04\n",
      "Epoch 179/400\n",
      "22/22 [==============================] - 0s 2ms/step - loss: 6.9412e-04\n",
      "Epoch 180/400\n",
      "22/22 [==============================] - 0s 2ms/step - loss: 5.3831e-04\n",
      "Epoch 181/400\n",
      "22/22 [==============================] - 0s 2ms/step - loss: 5.5300e-04\n",
      "Epoch 182/400\n",
      "22/22 [==============================] - 0s 2ms/step - loss: 6.2966e-04\n",
      "Epoch 183/400\n",
      "22/22 [==============================] - 0s 2ms/step - loss: 6.5255e-04\n",
      "Epoch 184/400\n",
      "22/22 [==============================] - 0s 2ms/step - loss: 5.5273e-04\n",
      "Epoch 185/400\n",
      "22/22 [==============================] - 0s 2ms/step - loss: 5.6175e-04\n",
      "Epoch 186/400\n",
      "22/22 [==============================] - 0s 2ms/step - loss: 6.4150e-04\n",
      "Epoch 187/400\n",
      "22/22 [==============================] - 0s 2ms/step - loss: 6.2275e-04\n",
      "Epoch 188/400\n",
      "22/22 [==============================] - 0s 2ms/step - loss: 6.5318e-04\n",
      "Epoch 189/400\n",
      "22/22 [==============================] - 0s 2ms/step - loss: 5.5093e-04\n",
      "Epoch 190/400\n",
      "22/22 [==============================] - 0s 2ms/step - loss: 6.5443e-04\n",
      "Epoch 191/400\n",
      "22/22 [==============================] - 0s 2ms/step - loss: 5.5743e-04\n",
      "Epoch 192/400\n",
      "22/22 [==============================] - 0s 2ms/step - loss: 7.5669e-04\n",
      "Epoch 193/400\n",
      "22/22 [==============================] - 0s 2ms/step - loss: 6.1707e-04\n",
      "Epoch 194/400\n"
     ]
    },
    {
     "name": "stdout",
     "output_type": "stream",
     "text": [
      "22/22 [==============================] - 0s 2ms/step - loss: 7.1138e-04\n",
      "Epoch 195/400\n",
      "22/22 [==============================] - 0s 2ms/step - loss: 6.9191e-04\n",
      "Epoch 196/400\n",
      "22/22 [==============================] - 0s 2ms/step - loss: 7.2784e-04\n",
      "Epoch 197/400\n",
      "22/22 [==============================] - 0s 2ms/step - loss: 7.4571e-04\n",
      "Epoch 198/400\n",
      "22/22 [==============================] - 0s 2ms/step - loss: 6.4412e-04\n",
      "Epoch 199/400\n",
      "22/22 [==============================] - 0s 2ms/step - loss: 6.1683e-04\n",
      "Epoch 200/400\n",
      "22/22 [==============================] - 0s 2ms/step - loss: 5.7854e-04\n",
      "Epoch 201/400\n",
      "22/22 [==============================] - 0s 2ms/step - loss: 6.3121e-04\n",
      "Epoch 202/400\n",
      "22/22 [==============================] - 0s 2ms/step - loss: 6.4869e-04\n",
      "Epoch 203/400\n",
      "22/22 [==============================] - 0s 2ms/step - loss: 6.4558e-04\n",
      "Epoch 204/400\n",
      "22/22 [==============================] - 0s 2ms/step - loss: 5.3788e-04\n",
      "Epoch 205/400\n",
      "22/22 [==============================] - 0s 2ms/step - loss: 5.7808e-04\n",
      "Epoch 206/400\n",
      "22/22 [==============================] - 0s 2ms/step - loss: 5.9363e-04\n",
      "Epoch 207/400\n",
      "22/22 [==============================] - 0s 3ms/step - loss: 5.3103e-04\n",
      "Epoch 208/400\n",
      "22/22 [==============================] - 0s 2ms/step - loss: 5.6221e-04\n",
      "Epoch 209/400\n",
      "22/22 [==============================] - 0s 2ms/step - loss: 6.3716e-04\n",
      "Epoch 210/400\n",
      "22/22 [==============================] - 0s 2ms/step - loss: 7.0478e-04\n",
      "Epoch 211/400\n",
      "22/22 [==============================] - 0s 2ms/step - loss: 5.7821e-04\n",
      "Epoch 212/400\n",
      "22/22 [==============================] - 0s 2ms/step - loss: 6.0352e-04\n",
      "Epoch 213/400\n",
      "22/22 [==============================] - 0s 2ms/step - loss: 5.3464e-04\n",
      "Epoch 214/400\n",
      "22/22 [==============================] - 0s 2ms/step - loss: 6.5303e-04\n",
      "Epoch 215/400\n",
      "22/22 [==============================] - 0s 2ms/step - loss: 6.2781e-04\n",
      "Epoch 216/400\n",
      "22/22 [==============================] - 0s 2ms/step - loss: 6.4433e-04\n",
      "Epoch 217/400\n",
      "22/22 [==============================] - 0s 2ms/step - loss: 5.6043e-04\n",
      "Epoch 218/400\n",
      "22/22 [==============================] - 0s 2ms/step - loss: 5.7038e-04\n",
      "Epoch 219/400\n",
      "22/22 [==============================] - 0s 2ms/step - loss: 5.7886e-04\n",
      "Epoch 220/400\n",
      "22/22 [==============================] - 0s 2ms/step - loss: 4.9823e-04\n",
      "Epoch 221/400\n",
      "22/22 [==============================] - 0s 2ms/step - loss: 5.5586e-04\n",
      "Epoch 222/400\n",
      "22/22 [==============================] - 0s 2ms/step - loss: 5.4292e-04\n",
      "Epoch 223/400\n",
      "22/22 [==============================] - 0s 2ms/step - loss: 4.9829e-04\n",
      "Epoch 224/400\n",
      "22/22 [==============================] - 0s 2ms/step - loss: 5.5087e-04\n",
      "Epoch 225/400\n",
      "22/22 [==============================] - 0s 2ms/step - loss: 5.5204e-04\n",
      "Epoch 226/400\n",
      "22/22 [==============================] - 0s 2ms/step - loss: 5.8263e-04\n",
      "Epoch 227/400\n",
      "22/22 [==============================] - 0s 2ms/step - loss: 5.8756e-04\n",
      "Epoch 228/400\n",
      "22/22 [==============================] - 0s 2ms/step - loss: 5.5347e-04\n",
      "Epoch 229/400\n",
      "22/22 [==============================] - 0s 2ms/step - loss: 5.4381e-04\n",
      "Epoch 230/400\n",
      "22/22 [==============================] - 0s 2ms/step - loss: 6.0858e-04\n",
      "Epoch 231/400\n",
      "22/22 [==============================] - 0s 2ms/step - loss: 5.7259e-04\n",
      "Epoch 232/400\n",
      "22/22 [==============================] - 0s 2ms/step - loss: 5.5419e-04\n",
      "Epoch 233/400\n",
      "22/22 [==============================] - 0s 2ms/step - loss: 5.0917e-04\n",
      "Epoch 234/400\n",
      "22/22 [==============================] - 0s 2ms/step - loss: 6.2086e-04\n",
      "Epoch 235/400\n",
      "22/22 [==============================] - 0s 2ms/step - loss: 5.2893e-04\n",
      "Epoch 236/400\n",
      "22/22 [==============================] - 0s 2ms/step - loss: 5.5886e-04\n",
      "Epoch 237/400\n",
      "22/22 [==============================] - 0s 2ms/step - loss: 5.2847e-04\n",
      "Epoch 238/400\n",
      "22/22 [==============================] - 0s 2ms/step - loss: 5.9065e-04\n",
      "Epoch 239/400\n",
      "22/22 [==============================] - 0s 2ms/step - loss: 5.1811e-04\n",
      "Epoch 240/400\n",
      "22/22 [==============================] - 0s 2ms/step - loss: 5.4660e-04\n",
      "Epoch 241/400\n",
      "22/22 [==============================] - 0s 2ms/step - loss: 5.5736e-04\n",
      "Epoch 242/400\n",
      "22/22 [==============================] - 0s 2ms/step - loss: 6.2568e-04\n",
      "Epoch 243/400\n",
      "22/22 [==============================] - 0s 2ms/step - loss: 5.4625e-04\n",
      "Epoch 244/400\n",
      "22/22 [==============================] - 0s 2ms/step - loss: 7.0891e-04\n",
      "Epoch 245/400\n",
      "22/22 [==============================] - 0s 2ms/step - loss: 6.6922e-04\n",
      "Epoch 246/400\n",
      "22/22 [==============================] - 0s 2ms/step - loss: 9.3829e-04\n",
      "Epoch 247/400\n",
      "22/22 [==============================] - 0s 2ms/step - loss: 7.9668e-04\n",
      "Epoch 248/400\n",
      "22/22 [==============================] - 0s 2ms/step - loss: 5.4513e-04\n",
      "Epoch 249/400\n",
      "22/22 [==============================] - 0s 2ms/step - loss: 5.4476e-04\n",
      "Epoch 250/400\n",
      "22/22 [==============================] - 0s 2ms/step - loss: 5.7609e-04\n",
      "Epoch 251/400\n",
      "22/22 [==============================] - 0s 3ms/step - loss: 5.3333e-04\n",
      "Epoch 252/400\n",
      "22/22 [==============================] - 0s 2ms/step - loss: 5.9655e-04\n",
      "Epoch 253/400\n",
      "22/22 [==============================] - 0s 2ms/step - loss: 8.5302e-04\n",
      "Epoch 254/400\n",
      "22/22 [==============================] - 0s 2ms/step - loss: 7.6605e-04\n",
      "Epoch 255/400\n",
      "22/22 [==============================] - 0s 2ms/step - loss: 6.6411e-04\n",
      "Epoch 256/400\n",
      "22/22 [==============================] - 0s 2ms/step - loss: 6.6684e-04\n",
      "Epoch 257/400\n",
      "22/22 [==============================] - 0s 2ms/step - loss: 6.0081e-04\n",
      "Epoch 258/400\n",
      "22/22 [==============================] - 0s 2ms/step - loss: 6.0279e-04\n",
      "Epoch 259/400\n",
      "22/22 [==============================] - 0s 2ms/step - loss: 5.3323e-04\n",
      "Epoch 260/400\n",
      "22/22 [==============================] - 0s 2ms/step - loss: 5.2431e-04\n",
      "Epoch 261/400\n",
      "22/22 [==============================] - 0s 2ms/step - loss: 5.4660e-04\n",
      "Epoch 262/400\n",
      "22/22 [==============================] - 0s 2ms/step - loss: 5.1080e-04\n",
      "Epoch 263/400\n",
      "22/22 [==============================] - 0s 2ms/step - loss: 5.3096e-04\n",
      "Epoch 264/400\n",
      "22/22 [==============================] - 0s 2ms/step - loss: 5.9957e-04\n",
      "Epoch 265/400\n",
      "22/22 [==============================] - 0s 2ms/step - loss: 5.7996e-04\n",
      "Epoch 266/400\n",
      "22/22 [==============================] - 0s 2ms/step - loss: 6.1400e-04\n",
      "Epoch 267/400\n",
      "22/22 [==============================] - 0s 2ms/step - loss: 5.2011e-04\n",
      "Epoch 268/400\n",
      "22/22 [==============================] - 0s 2ms/step - loss: 5.4167e-04\n",
      "Epoch 269/400\n",
      "22/22 [==============================] - 0s 2ms/step - loss: 6.4319e-04\n",
      "Epoch 270/400\n",
      "22/22 [==============================] - 0s 2ms/step - loss: 5.8252e-04\n",
      "Epoch 271/400\n",
      "22/22 [==============================] - 0s 2ms/step - loss: 5.4967e-04\n",
      "Epoch 272/400\n",
      "22/22 [==============================] - 0s 2ms/step - loss: 5.4883e-04\n",
      "Epoch 273/400\n",
      "22/22 [==============================] - 0s 2ms/step - loss: 4.5876e-04\n",
      "Epoch 274/400\n",
      "22/22 [==============================] - 0s 2ms/step - loss: 6.2805e-04\n",
      "Epoch 275/400\n",
      "22/22 [==============================] - 0s 2ms/step - loss: 5.1805e-04\n",
      "Epoch 276/400\n",
      "22/22 [==============================] - 0s 2ms/step - loss: 5.4274e-04\n",
      "Epoch 277/400\n",
      "22/22 [==============================] - 0s 2ms/step - loss: 5.5508e-04\n",
      "Epoch 278/400\n",
      "22/22 [==============================] - 0s 2ms/step - loss: 6.1737e-04\n",
      "Epoch 279/400\n",
      "22/22 [==============================] - 0s 2ms/step - loss: 5.5150e-04\n",
      "Epoch 280/400\n",
      "22/22 [==============================] - 0s 2ms/step - loss: 5.2319e-04\n",
      "Epoch 281/400\n",
      "22/22 [==============================] - 0s 2ms/step - loss: 5.6961e-04\n",
      "Epoch 282/400\n",
      "22/22 [==============================] - 0s 2ms/step - loss: 5.6508e-04\n",
      "Epoch 283/400\n",
      "22/22 [==============================] - 0s 2ms/step - loss: 5.5689e-04\n",
      "Epoch 284/400\n",
      "22/22 [==============================] - 0s 2ms/step - loss: 4.9811e-04\n",
      "Epoch 285/400\n",
      "22/22 [==============================] - 0s 2ms/step - loss: 5.5424e-04\n",
      "Epoch 286/400\n",
      "22/22 [==============================] - 0s 2ms/step - loss: 5.2195e-04\n",
      "Epoch 287/400\n",
      "22/22 [==============================] - 0s 2ms/step - loss: 5.0977e-04\n",
      "Epoch 288/400\n",
      "22/22 [==============================] - 0s 2ms/step - loss: 5.8840e-04\n",
      "Epoch 289/400\n"
     ]
    },
    {
     "name": "stdout",
     "output_type": "stream",
     "text": [
      "22/22 [==============================] - 0s 2ms/step - loss: 4.7657e-04\n",
      "Epoch 290/400\n",
      "22/22 [==============================] - 0s 2ms/step - loss: 5.4631e-04\n",
      "Epoch 291/400\n",
      "22/22 [==============================] - 0s 2ms/step - loss: 6.7445e-04\n",
      "Epoch 292/400\n",
      "22/22 [==============================] - 0s 2ms/step - loss: 4.8450e-04\n",
      "Epoch 293/400\n",
      "22/22 [==============================] - 0s 2ms/step - loss: 5.5544e-04\n",
      "Epoch 294/400\n",
      "22/22 [==============================] - 0s 2ms/step - loss: 4.8196e-04\n",
      "Epoch 295/400\n",
      "22/22 [==============================] - 0s 2ms/step - loss: 5.5188e-04\n",
      "Epoch 296/400\n",
      "22/22 [==============================] - 0s 2ms/step - loss: 6.2265e-04\n",
      "Epoch 297/400\n",
      "22/22 [==============================] - 0s 2ms/step - loss: 5.8108e-04\n",
      "Epoch 298/400\n",
      "22/22 [==============================] - 0s 2ms/step - loss: 5.6942e-04\n",
      "Epoch 299/400\n",
      "22/22 [==============================] - 0s 2ms/step - loss: 4.9654e-04\n",
      "Epoch 300/400\n",
      "22/22 [==============================] - 0s 2ms/step - loss: 5.1948e-04\n",
      "Epoch 301/400\n",
      "22/22 [==============================] - 0s 2ms/step - loss: 5.6560e-04\n",
      "Epoch 302/400\n",
      "22/22 [==============================] - 0s 2ms/step - loss: 6.3242e-04\n",
      "Epoch 303/400\n",
      "22/22 [==============================] - 0s 2ms/step - loss: 5.8002e-04\n",
      "Epoch 304/400\n",
      "22/22 [==============================] - 0s 2ms/step - loss: 5.0091e-04\n",
      "Epoch 305/400\n",
      "22/22 [==============================] - 0s 2ms/step - loss: 5.2947e-04\n",
      "Epoch 306/400\n",
      "22/22 [==============================] - 0s 2ms/step - loss: 5.4299e-04\n",
      "Epoch 307/400\n",
      "22/22 [==============================] - 0s 2ms/step - loss: 5.0881e-04\n",
      "Epoch 308/400\n",
      "22/22 [==============================] - 0s 2ms/step - loss: 5.2366e-04\n",
      "Epoch 309/400\n",
      "22/22 [==============================] - 0s 2ms/step - loss: 5.0547e-04\n",
      "Epoch 310/400\n",
      "22/22 [==============================] - 0s 2ms/step - loss: 5.4621e-04\n",
      "Epoch 311/400\n",
      "22/22 [==============================] - 0s 2ms/step - loss: 4.8735e-04\n",
      "Epoch 312/400\n",
      "22/22 [==============================] - 0s 2ms/step - loss: 5.0878e-04\n",
      "Epoch 313/400\n",
      "22/22 [==============================] - 0s 2ms/step - loss: 5.0371e-04\n",
      "Epoch 314/400\n",
      "22/22 [==============================] - 0s 2ms/step - loss: 5.4574e-04\n",
      "Epoch 315/400\n",
      "22/22 [==============================] - 0s 3ms/step - loss: 5.2645e-04\n",
      "Epoch 316/400\n",
      "22/22 [==============================] - 0s 2ms/step - loss: 5.4507e-04\n",
      "Epoch 317/400\n",
      "22/22 [==============================] - 0s 2ms/step - loss: 5.2748e-04\n",
      "Epoch 318/400\n",
      "22/22 [==============================] - 0s 2ms/step - loss: 5.2401e-04\n",
      "Epoch 319/400\n",
      "22/22 [==============================] - 0s 2ms/step - loss: 5.3910e-04\n",
      "Epoch 320/400\n",
      "22/22 [==============================] - 0s 2ms/step - loss: 5.0779e-04\n",
      "Epoch 321/400\n",
      "22/22 [==============================] - 0s 2ms/step - loss: 5.8330e-04\n",
      "Epoch 322/400\n",
      "22/22 [==============================] - 0s 2ms/step - loss: 5.7441e-04\n",
      "Epoch 323/400\n",
      "22/22 [==============================] - 0s 2ms/step - loss: 5.2179e-04\n",
      "Epoch 324/400\n",
      "22/22 [==============================] - 0s 2ms/step - loss: 4.8063e-04\n",
      "Epoch 325/400\n",
      "22/22 [==============================] - 0s 2ms/step - loss: 5.6985e-04\n",
      "Epoch 326/400\n",
      "22/22 [==============================] - 0s 2ms/step - loss: 5.4052e-04\n",
      "Epoch 327/400\n",
      "22/22 [==============================] - 0s 2ms/step - loss: 4.8538e-04\n",
      "Epoch 328/400\n",
      "22/22 [==============================] - 0s 2ms/step - loss: 4.9876e-04\n",
      "Epoch 329/400\n",
      "22/22 [==============================] - 0s 2ms/step - loss: 5.5746e-04\n",
      "Epoch 330/400\n",
      "22/22 [==============================] - 0s 2ms/step - loss: 4.8583e-04\n",
      "Epoch 331/400\n",
      "22/22 [==============================] - 0s 2ms/step - loss: 5.9436e-04\n",
      "Epoch 332/400\n",
      "22/22 [==============================] - 0s 2ms/step - loss: 5.1311e-04\n",
      "Epoch 333/400\n",
      "22/22 [==============================] - 0s 2ms/step - loss: 5.4070e-04\n",
      "Epoch 334/400\n",
      "22/22 [==============================] - 0s 2ms/step - loss: 5.6638e-04\n",
      "Epoch 335/400\n",
      "22/22 [==============================] - 0s 2ms/step - loss: 6.0876e-04\n",
      "Epoch 336/400\n",
      "22/22 [==============================] - 0s 2ms/step - loss: 5.6135e-04\n",
      "Epoch 337/400\n",
      "22/22 [==============================] - 0s 2ms/step - loss: 5.9313e-04\n",
      "Epoch 338/400\n",
      "22/22 [==============================] - 0s 2ms/step - loss: 5.3220e-04\n",
      "Epoch 339/400\n",
      "22/22 [==============================] - 0s 2ms/step - loss: 6.1058e-04\n",
      "Epoch 340/400\n",
      "22/22 [==============================] - 0s 2ms/step - loss: 5.6272e-04\n",
      "Epoch 341/400\n",
      "22/22 [==============================] - 0s 2ms/step - loss: 6.1195e-04\n",
      "Epoch 342/400\n",
      "22/22 [==============================] - 0s 2ms/step - loss: 5.4230e-04\n",
      "Epoch 343/400\n",
      "22/22 [==============================] - 0s 2ms/step - loss: 4.9868e-04\n",
      "Epoch 344/400\n",
      "22/22 [==============================] - 0s 2ms/step - loss: 4.8234e-04\n",
      "Epoch 345/400\n",
      "22/22 [==============================] - 0s 2ms/step - loss: 4.8327e-04\n",
      "Epoch 346/400\n",
      "22/22 [==============================] - 0s 2ms/step - loss: 5.5338e-04\n",
      "Epoch 347/400\n",
      "22/22 [==============================] - 0s 2ms/step - loss: 4.9283e-04\n",
      "Epoch 348/400\n",
      "22/22 [==============================] - 0s 2ms/step - loss: 5.7653e-04\n",
      "Epoch 349/400\n",
      "22/22 [==============================] - 0s 2ms/step - loss: 5.3742e-04\n",
      "Epoch 350/400\n",
      "22/22 [==============================] - 0s 2ms/step - loss: 5.8455e-04\n",
      "Epoch 351/400\n",
      "22/22 [==============================] - 0s 2ms/step - loss: 6.1877e-04\n",
      "Epoch 352/400\n",
      "22/22 [==============================] - 0s 2ms/step - loss: 5.5693e-04\n",
      "Epoch 353/400\n",
      "22/22 [==============================] - 0s 2ms/step - loss: 6.4393e-04\n",
      "Epoch 354/400\n",
      "22/22 [==============================] - 0s 2ms/step - loss: 5.3797e-04\n",
      "Epoch 355/400\n",
      "22/22 [==============================] - 0s 2ms/step - loss: 5.1378e-04\n",
      "Epoch 356/400\n",
      "22/22 [==============================] - 0s 2ms/step - loss: 5.6134e-04\n",
      "Epoch 357/400\n",
      "22/22 [==============================] - 0s 2ms/step - loss: 5.4298e-04\n",
      "Epoch 358/400\n",
      "22/22 [==============================] - 0s 2ms/step - loss: 5.5237e-04\n",
      "Epoch 359/400\n",
      "22/22 [==============================] - 0s 2ms/step - loss: 5.0572e-04\n",
      "Epoch 360/400\n",
      "22/22 [==============================] - 0s 3ms/step - loss: 5.3137e-04\n",
      "Epoch 361/400\n",
      "22/22 [==============================] - 0s 2ms/step - loss: 5.9178e-04\n",
      "Epoch 362/400\n",
      "22/22 [==============================] - 0s 2ms/step - loss: 5.5718e-04\n",
      "Epoch 363/400\n",
      "22/22 [==============================] - 0s 2ms/step - loss: 5.4165e-04\n",
      "Epoch 364/400\n",
      "22/22 [==============================] - 0s 2ms/step - loss: 4.8746e-04\n",
      "Epoch 365/400\n",
      "22/22 [==============================] - 0s 2ms/step - loss: 5.1657e-04\n",
      "Epoch 366/400\n",
      "22/22 [==============================] - 0s 2ms/step - loss: 5.6759e-04\n",
      "Epoch 367/400\n",
      "22/22 [==============================] - 0s 2ms/step - loss: 5.2795e-04\n",
      "Epoch 368/400\n",
      "22/22 [==============================] - 0s 2ms/step - loss: 4.8962e-04\n",
      "Epoch 369/400\n",
      "22/22 [==============================] - 0s 2ms/step - loss: 4.5831e-04\n",
      "Epoch 370/400\n",
      "22/22 [==============================] - 0s 2ms/step - loss: 5.5179e-04\n",
      "Epoch 371/400\n",
      "22/22 [==============================] - 0s 2ms/step - loss: 4.7311e-04\n",
      "Epoch 372/400\n",
      "22/22 [==============================] - 0s 2ms/step - loss: 5.2199e-04\n",
      "Epoch 373/400\n",
      "22/22 [==============================] - 0s 2ms/step - loss: 5.5427e-04\n",
      "Epoch 374/400\n",
      "22/22 [==============================] - 0s 2ms/step - loss: 4.8695e-04\n",
      "Epoch 375/400\n",
      "22/22 [==============================] - 0s 3ms/step - loss: 5.5646e-04\n",
      "Epoch 376/400\n",
      "22/22 [==============================] - 0s 2ms/step - loss: 5.4519e-04\n",
      "Epoch 377/400\n",
      "22/22 [==============================] - 0s 2ms/step - loss: 4.9804e-04\n",
      "Epoch 378/400\n",
      "22/22 [==============================] - 0s 2ms/step - loss: 5.2704e-04\n",
      "Epoch 379/400\n",
      "22/22 [==============================] - 0s 2ms/step - loss: 4.8226e-04\n",
      "Epoch 380/400\n",
      "22/22 [==============================] - 0s 2ms/step - loss: 4.5067e-04\n",
      "Epoch 381/400\n",
      "22/22 [==============================] - 0s 2ms/step - loss: 5.5769e-04\n",
      "Epoch 382/400\n",
      "22/22 [==============================] - 0s 2ms/step - loss: 5.3108e-04\n",
      "Epoch 383/400\n",
      "22/22 [==============================] - 0s 2ms/step - loss: 4.7996e-04\n",
      "Epoch 384/400\n"
     ]
    },
    {
     "name": "stdout",
     "output_type": "stream",
     "text": [
      "22/22 [==============================] - 0s 2ms/step - loss: 5.2128e-04\n",
      "Epoch 385/400\n",
      "22/22 [==============================] - 0s 2ms/step - loss: 5.3674e-04\n",
      "Epoch 386/400\n",
      "22/22 [==============================] - 0s 2ms/step - loss: 4.7645e-04\n",
      "Epoch 387/400\n",
      "22/22 [==============================] - 0s 2ms/step - loss: 5.8871e-04\n",
      "Epoch 388/400\n",
      "22/22 [==============================] - 0s 2ms/step - loss: 6.2418e-04\n",
      "Epoch 389/400\n",
      "22/22 [==============================] - 0s 2ms/step - loss: 6.1409e-04\n",
      "Epoch 390/400\n",
      "22/22 [==============================] - 0s 2ms/step - loss: 5.2210e-04\n",
      "Epoch 391/400\n",
      "22/22 [==============================] - 0s 2ms/step - loss: 5.3242e-04\n",
      "Epoch 392/400\n",
      "22/22 [==============================] - 0s 2ms/step - loss: 6.1174e-04\n",
      "Epoch 393/400\n",
      "22/22 [==============================] - 0s 2ms/step - loss: 4.7270e-04\n",
      "Epoch 394/400\n",
      "22/22 [==============================] - 0s 2ms/step - loss: 5.1577e-04\n",
      "Epoch 395/400\n",
      "22/22 [==============================] - 0s 2ms/step - loss: 5.1307e-04\n",
      "Epoch 396/400\n",
      "22/22 [==============================] - 0s 2ms/step - loss: 5.2299e-04\n",
      "Epoch 397/400\n",
      "22/22 [==============================] - 0s 2ms/step - loss: 4.7365e-04\n",
      "Epoch 398/400\n",
      "22/22 [==============================] - 0s 2ms/step - loss: 4.6498e-04\n",
      "Epoch 399/400\n",
      "22/22 [==============================] - 0s 2ms/step - loss: 4.6784e-04\n",
      "Epoch 400/400\n",
      "22/22 [==============================] - 0s 2ms/step - loss: 4.5627e-04\n"
     ]
    },
    {
     "data": {
      "text/plain": [
       "<keras.callbacks.History at 0x15ec69859d0>"
      ]
     },
     "execution_count": 123,
     "metadata": {},
     "output_type": "execute_result"
    }
   ],
   "source": [
    "model.fit(x_train, y_train, batch_size=100, epochs=400)\n"
   ]
  },
  {
   "cell_type": "code",
   "execution_count": 124,
   "metadata": {},
   "outputs": [],
   "source": [
    "model.save('future_fnn_model.h5')"
   ]
  },
  {
   "cell_type": "code",
   "execution_count": 125,
   "metadata": {
    "id": "ZQWMjHBzmg8d"
   },
   "outputs": [],
   "source": [
    "test_data = scaled_data[training_data_len - 60:, :]"
   ]
  },
  {
   "cell_type": "code",
   "execution_count": 126,
   "metadata": {
    "id": "_LheFsBWmkP9"
   },
   "outputs": [],
   "source": [
    "x_test = []\n",
    "y_test = dataset[training_data_len:, :]\n"
   ]
  },
  {
   "cell_type": "code",
   "execution_count": 127,
   "metadata": {
    "id": "uSn0YvsPmm0l"
   },
   "outputs": [],
   "source": [
    "for i in range(60, len(test_data)):\n",
    "    x_test.append(test_data[i-60:i, 0])"
   ]
  },
  {
   "cell_type": "code",
   "execution_count": 128,
   "metadata": {
    "id": "kvXkcVB6mpd-"
   },
   "outputs": [],
   "source": [
    "x_test = np.array(x_test)\n",
    "x_test = np.reshape(x_test, (x_test.shape[0], x_test.shape[1], 1))"
   ]
  },
  {
   "cell_type": "code",
   "execution_count": 129,
   "metadata": {
    "colab": {
     "base_uri": "https://localhost:8080/"
    },
    "id": "_Jdr9LUamqkG",
    "outputId": "b7fd2436-7c13-4e86-c4c6-d22c2b4aa3b4"
   },
   "outputs": [
    {
     "name": "stdout",
     "output_type": "stream",
     "text": [
      "18/18 [==============================] - 0s 2ms/step\n"
     ]
    }
   ],
   "source": [
    "predictions = model.predict(x_test)"
   ]
  },
  {
   "cell_type": "code",
   "execution_count": 130,
   "metadata": {
    "id": "sDRDYXwymwd-"
   },
   "outputs": [],
   "source": [
    "predictions = scaler.inverse_transform(predictions)\n"
   ]
  },
  {
   "cell_type": "code",
   "execution_count": 131,
   "metadata": {
    "colab": {
     "base_uri": "https://localhost:8080/"
    },
    "id": "8kq5zJ6vm0Qh",
    "outputId": "9523eee8-f1f5-4146-a3ed-11d982336d3e"
   },
   "outputs": [
    {
     "name": "stdout",
     "output_type": "stream",
     "text": [
      "Root Mean Squared Error (RMSE): 3.6585893094095203\n"
     ]
    }
   ],
   "source": [
    "rmse = np.sqrt(np.mean(((predictions - y_test) ** 2)))\n",
    "print(f\"Root Mean Squared Error (RMSE): {rmse}\")"
   ]
  },
  {
   "cell_type": "code",
   "execution_count": 132,
   "metadata": {
    "colab": {
     "base_uri": "https://localhost:8080/"
    },
    "id": "h9cKltUSm4hy",
    "outputId": "97076a68-b65d-416e-d3fd-9e44a7af5804"
   },
   "outputs": [
    {
     "name": "stderr",
     "output_type": "stream",
     "text": [
      "C:\\Users\\Admin\\AppData\\Local\\Temp\\ipykernel_9844\\2657761684.py:3: SettingWithCopyWarning: \n",
      "A value is trying to be set on a copy of a slice from a DataFrame.\n",
      "Try using .loc[row_indexer,col_indexer] = value instead\n",
      "\n",
      "See the caveats in the documentation: https://pandas.pydata.org/pandas-docs/stable/user_guide/indexing.html#returning-a-view-versus-a-copy\n",
      "  valid['Predictions'] = predictions\n"
     ]
    }
   ],
   "source": [
    "train = data[:training_data_len]\n",
    "valid = data[training_data_len:]\n",
    "valid['Predictions'] = predictions"
   ]
  },
  {
   "cell_type": "code",
   "execution_count": 133,
   "metadata": {
    "colab": {
     "base_uri": "https://localhost:8080/",
     "height": 564
    },
    "id": "piacpZhUm-pC",
    "outputId": "71c805ec-945a-44b4-aa65-f6f8561f565a"
   },
   "outputs": [
    {
     "data": {
      "image/png": "[encoded data removed]",
      "text/plain": [
       "<Figure size 1200x600 with 1 Axes>"
      ]
     },
     "metadata": {},
     "output_type": "display_data"
    }
   ],
   "source": [
    "plt.figure(figsize=(12, 6))\n",
    "plt.title('Model')\n",
    "plt.xlabel('Date')\n",
    "plt.ylabel('Close Price USD')\n",
    "plt.plot(train['Close'])\n",
    "plt.plot(valid[['Close', 'Predictions']])\n",
    "plt.legend(['Train', 'Val', 'Predictions'], loc='lower right')\n",
    "plt.show()"
   ]
  },
  {
   "cell_type": "code",
   "execution_count": 134,
   "metadata": {
    "id": "MbUQ9aaUnFKl"
   },
   "outputs": [],
   "source": [
    "seed_sequence = x_test[-1]\n",
    "\n",
    "# Specify the number of future predictions\n",
    "n_future_predictions = 5\n",
    "future_predictions = []\n"
   ]
  },
  {
   "cell_type": "code",
   "execution_count": 135,
   "metadata": {
    "colab": {
     "base_uri": "https://localhost:8080/"
    },
    "id": "ZbwPi3oQnILu",
    "outputId": "f9630788-508b-492b-d0ed-58eb0ae02181"
   },
   "outputs": [
    {
     "name": "stdout",
     "output_type": "stream",
     "text": [
      "1/1 [==============================] - 0s 5ms/step\n",
      "1/1 [==============================] - 0s 33ms/step\n",
      "1/1 [==============================] - 0s 31ms/step\n",
      "1/1 [==============================] - 0s 20ms/step\n",
      "1/1 [==============================] - 0s 18ms/step\n"
     ]
    }
   ],
   "source": [
    "for _ in range(n_future_predictions):\n",
    "    next_value = model.predict(np.array([seed_sequence]))[0][0]\n",
    "    future_predictions.append(next_value)\n",
    "    \n",
    "    # Update the seed_sequence by removing the oldest value and adding the predicted value\n",
    "    seed_sequence = np.append(seed_sequence[1:], next_value)"
   ]
  },
  {
   "cell_type": "code",
   "execution_count": 136,
   "metadata": {
    "id": "PcrmMJSrnNKF"
   },
   "outputs": [],
   "source": [
    "future_predictions = scaler.inverse_transform(np.array(future_predictions).reshape(-1, 1))"
   ]
  },
  {
   "cell_type": "code",
   "execution_count": 137,
   "metadata": {
    "colab": {
     "base_uri": "https://localhost:8080/"
    },
    "id": "kOGUCTh0rhn9",
    "outputId": "f775aedb-bebb-4aa0-f434-0070fb398749"
   },
   "outputs": [
    {
     "name": "stderr",
     "output_type": "stream",
     "text": [
      "C:\\Users\\Admin\\AppData\\Local\\Temp\\ipykernel_9844\\1515032649.py:1: FutureWarning: Argument `closed` is deprecated in favor of `inclusive`.\n",
      "  future_dates = pd.date_range(start=df.index[-1], periods=n_future_predictions+1, closed='right')\n"
     ]
    }
   ],
   "source": [
    "future_dates = pd.date_range(start=df.index[-1], periods=n_future_predictions+1, closed='right')\n",
    "future_df = pd.DataFrame(data=future_predictions, index=future_dates, columns=['Predictions'])"
   ]
  },
  {
   "cell_type": "code",
   "execution_count": 138,
   "metadata": {
    "id": "4Ns2sfjrroWd"
   },
   "outputs": [],
   "source": [
    "combined_df = pd.concat([valid, future_df])"
   ]
  },
  {
   "cell_type": "code",
   "execution_count": 139,
   "metadata": {
    "colab": {
     "base_uri": "https://localhost:8080/"
    },
    "id": "fx3A-W6Urtd1",
    "outputId": "997bb704-724e-46f4-d9fa-586ed52c8f03"
   },
   "outputs": [
    {
     "name": "stdout",
     "output_type": "stream",
     "text": [
      "                 Close  Predictions\n",
      "2021-08-11  145.860001   146.158752\n",
      "2021-08-12  148.889999   145.979767\n",
      "2021-08-13  149.100006   147.525894\n",
      "2021-08-16  151.119995   148.541504\n",
      "2021-08-17  150.190002   150.004181\n",
      "...                ...          ...\n",
      "2023-11-03         NaN   172.493225\n",
      "2023-11-04         NaN   173.075424\n",
      "2023-11-05         NaN   173.326630\n",
      "2023-11-06         NaN   174.208511\n",
      "2023-11-07         NaN   174.867401\n",
      "\n",
      "[567 rows x 2 columns]\n"
     ]
    }
   ],
   "source": [
    "print(combined_df)"
   ]
  },
  {
   "cell_type": "code",
   "execution_count": 140,
   "metadata": {
    "colab": {
     "base_uri": "https://localhost:8080/",
     "height": 564
    },
    "id": "zCoP5oVsnQU2",
    "outputId": "2ebc5d0b-0e6e-485d-d9bd-b93625148997"
   },
   "outputs": [
    {
     "data": {
      "image/png": "[encoded data removed]",
      "text/plain": [
       "<Figure size 1200x600 with 1 Axes>"
      ]
     },
     "metadata": {},
     "output_type": "display_data"
    }
   ],
   "source": [
    "plt.figure(figsize=(12, 6))\n",
    "plt.title('Future Predictions')\n",
    "plt.xlabel('Time')\n",
    "plt.ylabel('Close Price USD')\n",
    "plt.plot(valid[['Close', 'Predictions']], label='Validation Data and Predictions')\n",
    "plt.plot(range(len(valid), len(valid) + n_future_predictions), future_predictions, label='Future Predictions', linestyle='--')\n",
    "plt.legend(loc='lower right')\n",
    "plt.show()\n"
   ]
  },
  {
   "cell_type": "code",
   "execution_count": null,
   "metadata": {},
   "outputs": [],
   "source": []
  }
 ],
 "metadata": {
  "colab": {
   "provenance": []
  },
  "kernelspec": {
   "display_name": "Python 3 (ipykernel)",
   "language": "python",
   "name": "python3"
  },
  "language_info": {
   "codemirror_mode": {
    "name": "ipython",
    "version": 3
   },
   "file_extension": ".py",
   "mimetype": "text/x-python",
   "name": "python",
   "nbconvert_exporter": "python",
   "pygments_lexer": "ipython3",
   "version": "3.9.13"
  },
  "vscode": {
   "interpreter": {
    "hash": "58dbfdb34cf82127b32c5737e6183911655ff227e5c11e8f5e4b25048ae98ef2"
   }
  }
 },
 "nbformat": 4,
 "nbformat_minor": 1
}
